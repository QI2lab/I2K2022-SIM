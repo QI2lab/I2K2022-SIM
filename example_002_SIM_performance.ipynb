{
 "cells": [
  {
   "cell_type": "markdown",
   "metadata": {},
   "source": [
    "# Example 002 - estimate SIM performance using Argolight SIM v1 test target slide\n",
    "  \n",
    "Test targets with known ground truth and a variety of pattern orientations are useful to estimate the overall quality of the SIM instrument and reconstruction. Here, we use an [Argolight SIM v1 slide](https://argolight.com/files/Argo-SIM/Argo-SIM-v1.1_User-guide.pdf) with sets of lines that are spaced from 0 to 390 nm apart. The line spacing changes in 30 nm increments."
   ]
  },
  {
   "cell_type": "markdown",
   "metadata": {},
   "source": [
    "### Import libraries."
   ]
  },
  {
   "cell_type": "code",
   "execution_count": null,
   "metadata": {},
   "outputs": [],
   "source": [
    "import napari\n",
    "import numpy as np\n",
    "from numpy import fft\n",
    "import pickle\n",
    "import tifffile\n",
    "from pathlib import Path\n",
    "import mcsim.analysis.sim_reconstruction as sim\n",
    "import localize_psf.fit_psf as psf\n",
    "import localize_psf.affine as affine\n",
    "import localize_psf.rois as rois\n",
    "from mcsim.analysis import analysis_tools\n",
    "import matplotlib.pyplot as plt\n",
    "from matplotlib.colors import PowerNorm"
   ]
  },
  {
   "cell_type": "markdown",
   "metadata": {},
   "source": [
    "### Load experimental data containing all wavelengths and patterns."
   ]
  },
  {
   "cell_type": "code",
   "execution_count": null,
   "metadata": {},
   "outputs": [],
   "source": [
    "ncolors = 2\n",
    "nangles = 3\n",
    "nphases = 3\n",
    "nx = 2048\n",
    "ny = 2048\n",
    "imgs = tifffile.imread(Path(\"data\", \"example_002\", \"raw_data\", \"argosim_line_pairs.tif\")).reshape([ncolors, nangles, nphases, ny, nx])"
   ]
  },
  {
   "cell_type": "markdown",
   "metadata": {},
   "source": [
    "### Set experimental metadata."
   ]
  },
  {
   "cell_type": "code",
   "execution_count": null,
   "metadata": {},
   "outputs": [],
   "source": [
    "na = 1.3\n",
    "pixel_size = 0.065\n",
    "excitation_wavelengths = [0.465, 0.532]\n",
    "emission_wavelengths = [0.519, 0.580]"
   ]
  },
  {
   "cell_type": "markdown",
   "metadata": {},
   "source": [
    "### View data in Napari"
   ]
  },
  {
   "cell_type": "code",
   "execution_count": null,
   "metadata": {},
   "outputs": [],
   "source": [
    "viewer = napari.view_image(imgs[0,:],name='em: 520 nm',scale=(pixel_size,pixel_size))\n",
    "viewer.add_image(imgs[1,:],name='em: 580 nm',scale=(pixel_size,pixel_size))\n",
    "viewer.scale_bar.unit='um'\n",
    "viewer.scale_bar.visible=True"
   ]
  },
  {
   "cell_type": "markdown",
   "metadata": {},
   "source": [
    "### Crop image to ROI containing Argolight test target."
   ]
  },
  {
   "cell_type": "code",
   "execution_count": null,
   "metadata": {},
   "outputs": [],
   "source": [
    "roi = rois.get_centered_roi([791, 896], [850, 850])\n",
    "nx_roi = roi[3] - roi[2]\n",
    "ny_roi = roi[1] - roi[0]"
   ]
  },
  {
   "cell_type": "markdown",
   "metadata": {},
   "source": [
    "## SIM reconstruction using calibrated instrument parameters "
   ]
  },
  {
   "cell_type": "markdown",
   "metadata": {},
   "source": [
    "### Load experimental optical transfer function."
   ]
  },
  {
   "cell_type": "code",
   "execution_count": null,
   "metadata": {},
   "outputs": [],
   "source": [
    "otf_data_path = Path(\"data\", \"example_002\", \"calibration\", \"2020_05_19_otf_fit_blue.pkl\")\n",
    "\n",
    "with open(otf_data_path, 'rb') as f:\n",
    "    otf_data = pickle.load(f)\n",
    "otf_p = otf_data['fit_params']\n",
    "\n",
    "otf_fn = lambda f, fmax: 1 / (1 + (f / fmax * otf_p[0]) ** 2) * psf.circ_aperture_otf(f, 0, na, 2 * na / fmax)"
   ]
  },
  {
   "cell_type": "markdown",
   "metadata": {},
   "source": [
    "### Load pre-calculated affine transforms for qi2lab DMD-SIM."
   ]
  },
  {
   "cell_type": "code",
   "execution_count": null,
   "metadata": {},
   "outputs": [],
   "source": [
    "affine_fnames = [Path(\"data\", \"example_002\", \"calibration\", \"2021-02-03_09;43;06_affine_xform_blue_z=0.pkl\"),\n",
    "                 Path(\"data\", \"example_002\", \"calibration\", \"2021-02-03_09;43;06_affine_xform_green_z=0.pkl\")]\n",
    "\n",
    "affine_xforms = []\n",
    "for p in affine_fnames:\n",
    "    with open(p, 'rb') as f:\n",
    "        affine_xforms.append(pickle.load(f)['affine_xform'])"
   ]
  },
  {
   "cell_type": "markdown",
   "metadata": {},
   "source": [
    "### Load qi2lab DMD-SIM patterns. Estimate frequency and phase using extracted affine transforms."
   ]
  },
  {
   "cell_type": "code",
   "execution_count": null,
   "metadata": {},
   "outputs": [],
   "source": [
    "dmd_pattern_data_fpath = [Path(\"data\", \"example_002\", \"calibration\", \"sim_patterns_period=6.01_nangles=3.pkl\"),\n",
    "                          Path(\"data\", \"example_002\", \"calibration\", \"sim_patterns_period=6.82_nangles=3.pkl\")]\n",
    "\n",
    "frqs_dmd = np.zeros((2, 3, 2))\n",
    "phases_dmd = np.zeros((ncolors, nangles, nphases))\n",
    "for kk in range(ncolors):\n",
    "    ppath = dmd_pattern_data_fpath[kk]\n",
    "    xform = affine_xforms[kk]\n",
    "\n",
    "    with open(ppath, 'rb') as f:\n",
    "        pattern_data = pickle.load(f)\n",
    "\n",
    "    # DMD intensity frequency and phase (twice electric field frq/phase)\n",
    "    frqs_dmd[kk] = 2 * pattern_data['frqs']\n",
    "    phases_dmd[kk] = 2 * pattern_data['phases']\n",
    "    dmd_nx = pattern_data['nx']\n",
    "    dmd_ny = pattern_data['ny']\n",
    "\n",
    "for kk in range(1):\n",
    "    # otf matrix\n",
    "    fmax = 1 / (0.5 * emission_wavelengths[kk] / na)\n",
    "    fx = fft.fftshift(fft.fftfreq(nx_roi, pixel_size))\n",
    "    fy = fft.fftshift(fft.fftfreq(ny_roi, pixel_size))\n",
    "    ff = np.sqrt(fx[None, :] ** 2 + fy[:, None] ** 2)\n",
    "    otf = otf_fn(ff, fmax)\n",
    "    otf[ff >= fmax] = 0\n",
    "\n",
    "    # guess frequencies/phases\n",
    "    frqs_guess = np.zeros((nangles, 2))\n",
    "    phases_guess = np.zeros((nangles, nphases))\n",
    "    for ii in range(nangles):\n",
    "        for jj in range(nphases):\n",
    "            # estimate frequencies based on affine_xform\n",
    "            frqs_guess[ii, 0], frqs_guess[ii, 1], phases_guess[ii, jj] = \\\n",
    "                affine.xform_sinusoid_params_roi(frqs_dmd[kk, ii, 0], frqs_dmd[kk, ii, 1],\n",
    "                                                 phases_dmd[kk, ii, jj], [dmd_ny, dmd_nx], roi, xform)\n",
    "\n",
    "    # convert from 1/mirrors to 1/um\n",
    "    frqs_guess = frqs_guess / pixel_size"
   ]
  },
  {
   "cell_type": "markdown",
   "metadata": {},
   "source": [
    "### Perform SIM reconstruction using known OTF and plot results."
   ]
  },
  {
   "cell_type": "code",
   "execution_count": null,
   "metadata": {},
   "outputs": [],
   "source": [
    "%matplotlib inline\n",
    "imgset = sim.SimImageSet({\"pixel_size\": pixel_size, \"na\": na, \"wavelength\": emission_wavelengths[0]},\n",
    "                        imgs[0, :, :, roi[0]:roi[1], roi[2]:roi[3]],\n",
    "                        frq_estimation_mode=\"band-correlation\",\n",
    "                        frq_guess=frqs_guess,\n",
    "                        phases_guess=phases_guess,\n",
    "                        phase_estimation_mode=\"wicker-iterative\",\n",
    "                        combine_bands_mode=\"fairSIM\",\n",
    "                        fmax_exclude_band0=0.4, \n",
    "                        normalize_histograms=True,\n",
    "                        otf=otf,\n",
    "                        wiener_parameter=0.1,\n",
    "                        background=100, \n",
    "                        gain=2, \n",
    "                        min_p2nr=0.5,\n",
    "                        save_dir=Path(\"data\",\"example_002\",\"reconstruction\"),\n",
    "                        interactive_plotting=False, \n",
    "                        figsize=(20, 13))\n",
    "\n",
    "imgset.reconstruct()\n",
    "imgset.plot_figs()\n",
    "imgset.save_imgs()\n",
    "imgset.log_file.close()\n",
    "\n",
    "wf_images = imgset.widefield\n",
    "SR_images = imgset.sim_sr\n",
    "\n",
    "del imgset"
   ]
  },
  {
   "cell_type": "markdown",
   "metadata": {},
   "source": [
    "### Display results"
   ]
  },
  {
   "cell_type": "code",
   "execution_count": null,
   "metadata": {},
   "outputs": [],
   "source": [
    "colormaps = ['bop blue', 'bop orange']\n",
    "\n",
    "viewer = napari.view_image(wf_images,name='Widefield',scale=(pixel_size,pixel_size),colormap = colormaps[0],blending='additive')\n",
    "viewer.add_image(SR_images,name='SR',scale=(pixel_size/2,pixel_size/2),colormap = colormaps[1],blending='additive')\n",
    "\n",
    "viewer.scale_bar.unit = 'um'\n",
    "viewer.scale_bar.visible = True"
   ]
  },
  {
   "cell_type": "markdown",
   "metadata": {},
   "source": [
    "## Importance of SLM calibration"
   ]
  },
  {
   "cell_type": "markdown",
   "metadata": {},
   "source": [
    "### Calculate FFT of raw data to find frequency guesses"
   ]
  },
  {
   "cell_type": "code",
   "execution_count": null,
   "metadata": {},
   "outputs": [],
   "source": [
    "%matplotlib widget\n",
    "for ch_idx in range(ncolors):\n",
    "\n",
    "    image_set = imgs[ch_idx,:,:,:,:]\n",
    "\n",
    "    dx = pixel_size\n",
    "    fxs = analysis_tools.get_fft_frqs(nx, dx)\n",
    "    df = fxs[1] - fxs[0]\n",
    "    fys = analysis_tools.get_fft_frqs(ny, dx)\n",
    "    ff = np.sqrt(np.expand_dims(fxs, axis=0)**2 + np.expand_dims(fys, axis=1)**2)\n",
    "    for ii in range(image_set.shape[0]):\n",
    "        ft = fft.fftshift(fft.fft2(fft.ifftshift(np.squeeze(image_set[ii, 0, :]))))\n",
    "\n",
    "        figh = plt.figure()\n",
    "        plt.title('Channel='+str(ch_idx)+\", Angle=\"+str(ii))\n",
    "        plt.imshow(np.abs(ft), norm=PowerNorm(gamma=0.1,vmin=65,vmax=1.5e7),\n",
    "                    extent=[fxs[0] - 0.5 * df, fxs[-1] + 0.5 * df, fys[-1] + 0.5 * df, fys[0] - 0.5 * df])\n",
    "        plt.show()"
   ]
  }
 ],
 "metadata": {
  "interpreter": {
   "hash": "e966e8575e80f21eefd148db0808d44eea9284358157c0ee2fd32e18adfd524e"
  },
  "kernelspec": {
   "display_name": "Python 3.9.12 ('mcsimi2k')",
   "language": "python",
   "name": "python3"
  },
  "language_info": {
   "codemirror_mode": {
    "name": "ipython",
    "version": 3
   },
   "file_extension": ".py",
   "mimetype": "text/x-python",
   "name": "python",
   "nbconvert_exporter": "python",
   "pygments_lexer": "ipython3",
   "version": "3.9.12"
  },
  "orig_nbformat": 4
 },
 "nbformat": 4,
 "nbformat_minor": 2
}
