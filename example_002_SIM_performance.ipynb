{
 "cells": [
  {
   "cell_type": "markdown",
   "metadata": {},
   "source": [
    "# Example 2. Reconstruction parameters: Resolution target 2D-SIM\n",
    "  \n",
    "Test targets with known ground truth and a variety of pattern orientations are useful to estimate the overall quality of the SIM instrument and reconstruction. Here, we use an [Argolight SIM v1 slide](https://argolight.com/files/Argo-SIM/Argo-SIM-v1.1_User-guide.pdf) with sets of lines that are spaced from 0 to 390 nm apart. The line spacing changes in 30 nm increments."
   ]
  },
  {
   "cell_type": "markdown",
   "metadata": {},
   "source": [
    "### Import libraries."
   ]
  },
  {
   "cell_type": "code",
   "execution_count": null,
   "metadata": {},
   "outputs": [],
   "source": [
    "import napari\n",
    "import numpy as np\n",
    "from numpy import fft\n",
    "import json\n",
    "import tifffile\n",
    "from pathlib import Path\n",
    "import mcsim.analysis.sim_reconstruction as sim\n",
    "import localize_psf.fit_psf as psf\n",
    "import localize_psf.affine as affine\n",
    "import localize_psf.rois as rois\n",
    "from mcsim.analysis import analysis_tools\n",
    "import matplotlib.pyplot as plt\n",
    "from matplotlib.colors import PowerNorm"
   ]
  },
  {
   "cell_type": "markdown",
   "metadata": {},
   "source": [
    "### Load experimental data containing all wavelengths and patterns."
   ]
  },
  {
   "cell_type": "code",
   "execution_count": null,
   "metadata": {},
   "outputs": [],
   "source": [
    "ncolors = 2 # number of channels\n",
    "nangles = 3 # number of angles\n",
    "nphases = 3 # number of phases\n",
    "nz = 1 # number of z planes\n",
    "nx = 2048 # number of x pixels on camera\n",
    "ny = 2048 # number of y pixels on camera\n",
    "\n",
    "# read data from disk\n",
    "imgs = tifffile.imread(Path(\"data\", \"example_002\", \"raw_data\", \"argosim_line_pairs.tif\")).reshape([ncolors, nangles, nphases, ny, nx])"
   ]
  },
  {
   "cell_type": "markdown",
   "metadata": {},
   "source": [
    "### Set experimental metadata."
   ]
  },
  {
   "cell_type": "code",
   "execution_count": null,
   "metadata": {},
   "outputs": [],
   "source": [
    "na = 1.3\n",
    "pixel_size = 0.065 # um\n",
    "excitation_wavelengths = [0.465, 0.532] # um\n",
    "emission_wavelengths = [0.519, 0.580] # um"
   ]
  },
  {
   "cell_type": "markdown",
   "metadata": {},
   "source": [
    "### View data in Napari"
   ]
  },
  {
   "cell_type": "code",
   "execution_count": null,
   "metadata": {},
   "outputs": [],
   "source": [
    "# define colormaps\n",
    "colormaps = ['bop blue', 'bop orange']\n",
    "\n",
    "# add images to napari viewer with scale information, colormaps, and additive blending\n",
    "viewer = napari.view_image(imgs[0,:],name='em: 520 nm',scale=(1,pixel_size,pixel_size),colormap = colormaps[0],blending='additive',contrast_limits=[0,2**16-1])\n",
    "viewer.add_image(imgs[1,:],name='em: 580 nm',scale=(1,pixel_size,pixel_size),colormap = colormaps[1],blending='additive',contrast_limits=[0,2**16-1])\n",
    "\n",
    "# activate scale bar in physical units\n",
    "viewer.scale_bar.unit='um'\n",
    "viewer.scale_bar.visible=True\n",
    "\n",
    "# label sliders in napari viewer\n",
    "viewer.dims.axis_labels = ['a','p','y','x']"
   ]
  },
  {
   "cell_type": "markdown",
   "metadata": {},
   "source": [
    "### Crop image to ROI containing Argolight test target."
   ]
  },
  {
   "cell_type": "code",
   "execution_count": null,
   "metadata": {},
   "outputs": [],
   "source": [
    "# [cy, cx]\n",
    "roi = rois.get_centered_roi([791, 896], [850, 850])\n",
    "nx_roi = roi[3] - roi[2]\n",
    "ny_roi = roi[1] - roi[0]"
   ]
  },
  {
   "cell_type": "markdown",
   "metadata": {},
   "source": [
    "## SIM reconstruction using calibrated instrument parameters "
   ]
  },
  {
   "cell_type": "markdown",
   "metadata": {},
   "source": [
    "### Load experimental optical transfer function."
   ]
  },
  {
   "cell_type": "code",
   "execution_count": null,
   "metadata": {},
   "outputs": [],
   "source": [
    "otf_data_path = Path(\"data\", \"example_002\", \"calibration\", \"2020_05_19_otf_fit_blue.json\")\n",
    "\n",
    "# load optical transfer function data\n",
    "with open(otf_data_path, 'rb') as f:\n",
    "    otf_data = json.load(f)\n",
    "otf_p = np.asarray(otf_data['fit_params'])\n",
    "\n",
    "# define function to return optical transfer function\n",
    "otf_fn = lambda f, fmax: 1 / (1 + (f / fmax * otf_p[0]) ** 2) * psf.circ_aperture_otf(f, 0, na, 2 * na / fmax)"
   ]
  },
  {
   "cell_type": "markdown",
   "metadata": {},
   "source": [
    "### Load pre-calculated affine transforms for qi2lab DMD-SIM."
   ]
  },
  {
   "cell_type": "code",
   "execution_count": null,
   "metadata": {},
   "outputs": [],
   "source": [
    "affine_fnames = [Path(\"data\", \"example_002\", \"calibration\", \"2021-02-03_09;43;06_affine_xform_blue_z=0.json\"),\n",
    "                 Path(\"data\", \"example_002\", \"calibration\", \"2021-02-03_09;43;06_affine_xform_green_z=0.json\")]\n",
    "\n",
    "# load affine transforms for each channel\n",
    "affine_xforms = []\n",
    "for p in affine_fnames:\n",
    "    with open(p, 'rb') as f:\n",
    "        affine_xforms.append(np.asarray(json.load(f)['affine_xform']))"
   ]
  },
  {
   "cell_type": "markdown",
   "metadata": {},
   "source": [
    "### Load qi2lab DMD-SIM patterns. Estimate frequency and phase using extracted affine transforms."
   ]
  },
  {
   "cell_type": "code",
   "execution_count": null,
   "metadata": {},
   "outputs": [],
   "source": [
    "dmd_pattern_data_fpath = [Path(\"data\", \"example_002\", \"calibration\", \"sim_patterns_period=6.01_nangles=3.json\"),\n",
    "                          Path(\"data\", \"example_002\", \"calibration\", \"sim_patterns_period=6.82_nangles=3.json\")]\n",
    "\n",
    "# variables to store information on frequences and phases of DMD patterns\n",
    "frqs_dmd = np.zeros((2, 3, 2))\n",
    "phases_dmd = np.zeros((ncolors, nangles, nphases))\n",
    "\n",
    "# loop over all channels\n",
    "for kk in range(ncolors):\n",
    "\n",
    "    # load patterns displayed on DMD for current channel\n",
    "    ppath = dmd_pattern_data_fpath[kk]\n",
    "    with open(ppath, 'rb') as f:\n",
    "        pattern_data = json.load(f)\n",
    "\n",
    "    # load affine transform for current channel\n",
    "    xform = affine_xforms[kk]\n",
    "\n",
    "    # DMD intensity frequency and phase (twice electric field frq/phase)\n",
    "    frqs_dmd[kk] = 2 * np.asarray(pattern_data['frqs'])\n",
    "    phases_dmd[kk] = 2 * np.asarray(pattern_data['phases'])\n",
    "    dmd_nx = int(pattern_data['nx'])\n",
    "    dmd_ny = int(pattern_data['ny'])\n",
    "\n",
    "# loop over all channels\n",
    "# here, we limit to first channel because we will only reconstruct the first channel\n",
    "ncolors_limited = 1\n",
    "for kk in range(ncolors_limited):\n",
    "    \n",
    "    # calculate optical transfer function matrix\n",
    "    fmax = 1 / (0.5 * emission_wavelengths[kk] / na)\n",
    "    fx = fft.fftshift(fft.fftfreq(nx_roi, pixel_size))\n",
    "    fy = fft.fftshift(fft.fftfreq(ny_roi, pixel_size))\n",
    "    ff = np.sqrt(fx[None, :] ** 2 + fy[:, None] ** 2)\n",
    "    otf = otf_fn(ff, fmax)\n",
    "    otf[ff >= fmax] = 0\n",
    "\n",
    "    # guess frequencies/phases using OTF, affine transform, and DMD patterns\n",
    "    frqs_guess = np.zeros((nangles, 2))\n",
    "    phases_guess = np.zeros((nangles, nphases))\n",
    "    for ii in range(nangles):\n",
    "        for jj in range(nphases):\n",
    "            # estimate frequencies based on affine_xform\n",
    "            frqs_guess[ii, 0], frqs_guess[ii, 1], phases_guess[ii, jj] = \\\n",
    "                affine.xform_sinusoid_params_roi(frqs_dmd[kk, ii, 0], frqs_dmd[kk, ii, 1],\n",
    "                                                 phases_dmd[kk, ii, jj], [dmd_ny, dmd_nx], roi, xform)\n",
    "\n",
    "    # convert from 1/mirrors to 1/um\n",
    "    frqs_guess = frqs_guess / pixel_size"
   ]
  },
  {
   "cell_type": "markdown",
   "metadata": {},
   "source": [
    "#### Expand to see detailed information on SIM reconstruction class\n"
   ]
  },
  {
   "cell_type": "markdown",
   "metadata": {},
   "source": [
    "\n",
    "Reconstruct raw SIM data into widefield, SIM-SR, SIM-OS, and deconvolved images using the Wiener filter style reconstruction of Gustafsson and Heintzmann. This code relies on various ideas developed and implemented elsewhere, see for example fairSIM and openSIM.\n",
    "\n",
    "An instance of this class may be used directly to reconstruct a single SIM image which is stored as a numpy array. For a typical experiment it is usually best to write a helper function to load the data and coordinate the SIM parameter estimation and reconstruction of e.g. various channels, z-slices, time points or etc. For an example of this approach, see the function reconstruct_mm_sim_dataset()\n",
    "\n",
    "*:param physical_params:* {'pixel_size', 'na', 'wavelength'}. Pixel size and emission wavelength in um\n",
    "\n",
    "*:param imgs:* nangles x nphases x ny x nx raw data to be reconstructed\n",
    "\n",
    "*:param otf:* optical transfer function evaluated at the same frequencies as the fourier transforms of imgs. If None, estimate from NA. This can either be an array of size ny x nx, or an array of size nangles x ny x nx The second case corresponds to a system that has different OTF's per SIM acquisition angle.\n",
    "\n",
    "*:param wiener_parameter:* Attenuation parameter for Wiener filtering. This has a sligtly different meaning depending on the value of combine_bands_mode\n",
    "\n",
    "*:param str frq_estimation_mode:* \"band-correlation\", \"fourier-transform\", or \"fixed\" \"band-correlation\" first unmixes the bands using the phase guess values and computes the correlation between the shifted and unshifted band \"fourier-transform\" correlates the Fourier transform of the image with itself. \"fixed\" uses the frq_guess values\n",
    "\n",
    "*:param frq_guess:* 2 x nangles array of guess SIM frequency values\n",
    "\n",
    "*:param str phase_estimation_mode:* \"wicker-iterative\", \"real-space\", \"naive\", or \"fixed\"\n",
    "\"wicker-iterative\" follows the approach of https://doi.org/10.1364/OE.21.002032.\\ \"real-space\" follows the approach of section IV-B in https://doir.org/10.1109/JSTQE.2016.2521542. \"naive\" uses the phase of the Fourier transform of the raw data. \"fixed\" uses the values provided from phases_guess.\n",
    "\n",
    "*:param phases_guess:* nangles x nphases array of phase guesses\n",
    "\n",
    "*:param combine_bands_mode:* \"fairSIM\" if using method of https://doi.org/10.1038/ncomms10980 or \"openSIM\" if\n",
    "using method of https://doi.org/10.1109/jstqe.2016.2521542\\ :param float fmax_exclude_band0: amount of the unshifted bands to exclude, as a fraction of fmax. This can enhance optical sectioning by replacing the low frequency information in the reconstruction with the data. from the shifted bands only. For more details on the band replacement optical sectioning approach, see https://doi.org/10.1364/BOE.5.002580\\ and https://doi.org/10.1016/j.ymeth.2015.03.020\\ \n",
    "\n",
    "*:param mod_depths_guess:* If use_fixed_mod_depths is True, these modulation depths are used\n",
    "\n",
    "*:param bool use_fixed_mod_depths:* if true, use mod_depths_guess instead of estimating the modulation depths from the data\n",
    "\n",
    "*:param bool normalize_histograms:* for each phase, normalize histograms of images to account for laser power fluctuations\n",
    "\n",
    "*:param background:* Either a single number, or broadcastable to size of imgs. The background will be subtracted\n",
    " before running the SIM reconstruction\n",
    "\n",
    "*:param bool determine_amplitudes:* whether or not to determine amplitudes as part of Wicker phase optimization. This flag only has an effect if phase_estimation_mode is \"wicker-iterative\"\n",
    "\n",
    "*:param gain:* gain of the camera in ADU/photons. This is a single number or an array which is broadcastable to the same size as the images whcih is used to convert the ADU counts to photon numbers.\n",
    "\n",
    "*:param max_phase_err:* If the determined phase error between components exceeds this value, use the phase guess values instead of those determined by the estimation algorithm.\n",
    "\n",
    "*:param min_p2nr:* if the peak-to-noise ratio is smaller than this value, use the frequency guesses instead of the frequencies determined by the estimation algorithm.\n",
    "\n",
    "*:param fbounds:* frequency bounds as a fraction of fmax to be used in power spectrum fit. todo: remove ...\n",
    "\n",
    "*:param bool interactive_plotting:* show plots in python GUI windows, or save outputs only\n",
    "\n",
    "*:param str save_dir:* directory to save results. If None, then results will not be saved\n",
    "\n",
    "*:param bool use_gpu:* use GPU for processing if available\n",
    "\n",
    "*:param figsize:* figure size for diagnostic plots"
   ]
  },
  {
   "cell_type": "markdown",
   "metadata": {},
   "source": [
    "### Perform SIM reconstruction using known OTF and plot results. Loop over multiple Wiener parameter values to see effect on reconstruction."
   ]
  },
  {
   "cell_type": "code",
   "execution_count": null,
   "metadata": {},
   "outputs": [],
   "source": [
    "%matplotlib inline\n",
    "\n",
    "# path to save data\n",
    "save_path = Path(\"data\",\"example_002\",\"reconstruction\")\n",
    "\n",
    "# define list of wiener parameters to test in reconstruction\n",
    "w_idx = 0\n",
    "wiener_parameters = [0.05,0.1,0.15,0.2,0.25,0.3,0.35,0.4]\n",
    "\n",
    "# loop over all wiener parameters\n",
    "for wiener_parameter in wiener_parameters:\n",
    "\n",
    "    # create mcSIM reconstruction object. See docstring for details on each parameter.\n",
    "    imgset = sim.SimImageSet({\"pixel_size\": pixel_size, \"na\": na, \"wavelength\": emission_wavelengths[0]},\n",
    "                            imgs[0, :, :, roi[0]:roi[1], roi[2]:roi[3]],\n",
    "                            frq_estimation_mode=\"band-correlation\",\n",
    "                            frq_guess=frqs_guess,\n",
    "                            phases_guess=phases_guess,\n",
    "                            phase_estimation_mode=\"wicker-iterative\",\n",
    "                            combine_bands_mode=\"fairSIM\",\n",
    "                            fmax_exclude_band0=0.4, \n",
    "                            normalize_histograms=True,\n",
    "                            otf=otf,\n",
    "                            wiener_parameter=wiener_parameter,\n",
    "                            background=100, \n",
    "                            gain=2, \n",
    "                            min_p2nr=0.5,\n",
    "                            save_dir=save_path,\n",
    "                            save_suffix=\"_w\"+str(w_idx).zfill(3),\n",
    "                            interactive_plotting=False, \n",
    "                            figsize=(20, 13))\n",
    "\n",
    "    # perform reconstruction, plot figures, save, and clean up log file\n",
    "    imgset.reconstruct()\n",
    "    imgset.plot_figs()\n",
    "    imgset.save_imgs()\n",
    "    imgset.save_result()\n",
    "\n",
    "    # create variables to hold widefield and SIM SR images\n",
    "    if w_idx == 0:\n",
    "        wf_images = np.zeros((len(wiener_parameters),imgset.widefield.shape[0],imgset.widefield.shape[1]),dtype=np.float32)\n",
    "        SR_images = np.zeros((len(wiener_parameters),imgset.sim_sr.shape[0],imgset.sim_sr.shape[1]),dtype=np.float32)\n",
    "\n",
    "    # store widefield and SIM SR images for display\n",
    "    wf_images[w_idx,:]= imgset.widefield\n",
    "    SR_images[w_idx,:] = imgset.sim_sr\n",
    "    w_idx = w_idx + 1\n",
    "\n",
    "    # clean up mcSIM reconstruction object\n",
    "    del imgset"
   ]
  },
  {
   "cell_type": "markdown",
   "metadata": {},
   "source": [
    "### Display results"
   ]
  },
  {
   "cell_type": "code",
   "execution_count": null,
   "metadata": {},
   "outputs": [],
   "source": [
    "# define colormaps\n",
    "colormaps = ['bop blue', 'bop orange']\n",
    "\n",
    "# add images to napari viewer with scale information, colormaps, and additive blending\n",
    "viewer = napari.view_image(wf_images,name='Widefield',scale=(pixel_size,pixel_size),colormap = colormaps[0],blending='additive',contrast_limits=[0,2**16-1])\n",
    "viewer.add_image(SR_images,name='SR',scale=(pixel_size/2,pixel_size/2),colormap = colormaps[1],blending='additive',contrast_limits=[0,2**16-1])\n",
    "\n",
    "# activate scale bar in physical units\n",
    "viewer.scale_bar.unit = 'um'\n",
    "viewer.scale_bar.visible = True\n",
    "\n",
    "# label sliders in napari viewer\n",
    "viewer.dims.axis_labels = ['w_idx','y','x']"
   ]
  },
  {
   "cell_type": "markdown",
   "metadata": {},
   "source": [
    "## Importance of SLM calibration"
   ]
  },
  {
   "cell_type": "markdown",
   "metadata": {},
   "source": [
    "### Calculate FFT of raw data to find frequency guesses"
   ]
  },
  {
   "cell_type": "code",
   "execution_count": null,
   "metadata": {},
   "outputs": [],
   "source": [
    "%matplotlib widget\n",
    "\n",
    "# loop over all channels\n",
    "for ch_idx in range(ncolors):\n",
    "\n",
    "    # extract angle/phase data for current channel\n",
    "    image_set = imgs[ch_idx,:,:,:,:]\n",
    "\n",
    "    # create grid containing correct spatial frequencies given image sampling\n",
    "    dx = pixel_size\n",
    "    fxs = analysis_tools.get_fft_frqs(nx, dx)\n",
    "    df = fxs[1] - fxs[0]\n",
    "    fys = analysis_tools.get_fft_frqs(ny, dx)\n",
    "    ff = np.sqrt(np.expand_dims(fxs, axis=0)**2 + np.expand_dims(fys, axis=1)**2)\n",
    "\n",
    "    # loop over all angle/phases and plot absolute value of 2D fourier transform\n",
    "    for ii in range(image_set.shape[0]):\n",
    "        ft = fft.fftshift(fft.fft2(fft.ifftshift(np.squeeze(image_set[ii, 0, :]))))\n",
    "\n",
    "        figh = plt.figure()\n",
    "        plt.title('Z='+str(ch_idx)+\", Angle=\"+str(ii))\n",
    "        plt.imshow(np.abs(ft), norm=PowerNorm(gamma=0.1,vmin=65,vmax=1.5e7),\n",
    "                    extent=[fxs[0] - 0.5 * df, fxs[-1] + 0.5 * df, fys[-1] + 0.5 * df, fys[0] - 0.5 * df])\n",
    "        plt.show()"
   ]
  }
 ],
 "metadata": {
  "interpreter": {
   "hash": "e966e8575e80f21eefd148db0808d44eea9284358157c0ee2fd32e18adfd524e"
  },
  "kernelspec": {
   "display_name": "Python 3 (ipykernel)",
   "language": "python",
   "name": "python3"
  },
  "language_info": {
   "codemirror_mode": {
    "name": "ipython",
    "version": 3
   },
   "file_extension": ".py",
   "mimetype": "text/x-python",
   "name": "python",
   "nbconvert_exporter": "python",
   "pygments_lexer": "ipython3",
   "version": "3.9.12"
  }
 },
 "nbformat": 4,
 "nbformat_minor": 2
}
