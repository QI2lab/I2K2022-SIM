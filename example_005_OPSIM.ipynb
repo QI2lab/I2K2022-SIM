{
 "cells": [
  {
   "cell_type": "markdown",
   "metadata": {},
   "source": [
    "# Example 5. Uncalibrated modulators: Oblique plane structured illumination microscopy\n",
    "\n",
    "Load raw [oblique plane structured illumination microscopy (OPSIM)](https://www.biorxiv.org/content/10.1101/2022.05.19.492671v1.full), process data for rotation and registration, determine SIM pattern infromation, and run reconstruction.\n",
    "\n",
    "Instrument designed and built by Bingying Chen, Bo-Jui Chang, and Reto Fiolka.  \n",
    "Cardiomyocyte cell samples labeled for alpha-actinin 2 by James Hayes and Dylan Burnette.   \n",
    "All imaging by Reto Fiolka. "
   ]
  },
  {
   "cell_type": "markdown",
   "metadata": {},
   "source": [
    "### Download data from Zenodo and extract\n",
    "\n",
    "Data available from [OPSIM Zenodo repository](https://zenodo.org/record/6481084#.YmVM-7lOmHs).  Please download and extract \"1_CH00_000000.tif\" into data/example_005/raw_data. Once this is done, you can run this example."
   ]
  },
  {
   "cell_type": "markdown",
   "metadata": {},
   "source": [
    "### Import libraries"
   ]
  },
  {
   "cell_type": "code",
   "execution_count": null,
   "metadata": {},
   "outputs": [],
   "source": [
    "import numpy as np\n",
    "from numpy import fft\n",
    "from pathlib import Path\n",
    "import mcsim.analysis.sim_reconstruction as sim\n",
    "from mcsim.analysis import analysis_tools\n",
    "from localize_psf import rois\n",
    "import matplotlib.pyplot as plt\n",
    "from matplotlib.colors import PowerNorm\n",
    "from skimage.transform import rotate, EuclideanTransform, warp\n",
    "from skimage.registration import phase_cross_correlation\n",
    "import napari\n",
    "import tifffile\n",
    "import gc\n",
    "from example005_resources.deskew_opm_data import deskew\n",
    "import itk"
   ]
  },
  {
   "cell_type": "markdown",
   "metadata": {},
   "source": [
    "### Define data paths to raw OPSIM stack and 2D PSF extracted from many beads"
   ]
  },
  {
   "cell_type": "code",
   "execution_count": null,
   "metadata": {},
   "outputs": [],
   "source": [
    "opsim_file_path = Path(\"data\", \"example_005\", \"raw_data\", \"1_CH00_000000.tif\")\n",
    "psf_file_path = Path(\"example005_resources\", \"psf2d.tif\")"
   ]
  },
  {
   "cell_type": "markdown",
   "metadata": {},
   "source": [
    "### Define experimental metadata"
   ]
  },
  {
   "cell_type": "code",
   "execution_count": null,
   "metadata": {},
   "outputs": [],
   "source": [
    "# extracted from text file provided with acquisition\n",
    "n_colors = 1\n",
    "n_angles = 3\n",
    "n_phases = 3\n",
    "ns = 251\n",
    "ny = 200\n",
    "nx = 1024\n",
    "pixel_size = 0.114 # um\n",
    "ds = 0.320 # um - scan step size, not coverslip z\n",
    "na = 1.0 # Snouty NA\n",
    "excitation_wavelengths = 0.488 # um\n",
    "emission_wavelengths = 0.580 # um\n",
    "tilt_angle = 45.0\n",
    "\n",
    "# transformed pixel spacing. qi2lab deskew deskews onto an isotropic grid in xy\n",
    "coverslip_dz = pixel_size * np.sin(tilt_angle)\n",
    "coverslip_dy = pixel_size\n",
    "coverslip_dx = pixel_size"
   ]
  },
  {
   "cell_type": "markdown",
   "metadata": {},
   "source": [
    "### Load and parse data into angles and phases"
   ]
  },
  {
   "cell_type": "code",
   "execution_count": null,
   "metadata": {},
   "outputs": [],
   "source": [
    "# create array to hold all raw opsim images\n",
    "sim_images = np.zeros((n_colors,n_angles,n_phases,ns,ny,nx),dtype=np.uint16)\n",
    "\n",
    "# loop through TIFF file and load each raw opsim image into proper metadata location\n",
    "page_idx = 0\n",
    "with tifffile.TiffFile(opsim_file_path) as tif:\n",
    "    n_pages = len(tif.pages)\n",
    "    for channel_idx in range(n_colors):\n",
    "        for angle_idx in range(n_angles):\n",
    "            for phase_idx in range(n_phases):\n",
    "                for scan_idx in range(ns):\n",
    "                    sim_images[channel_idx,angle_idx,phase_idx,scan_idx,:,:] = tif.pages[page_idx].asarray()\n",
    "                    page_idx = page_idx + 1"
   ]
  },
  {
   "cell_type": "markdown",
   "metadata": {},
   "source": [
    "### Visualize OPM SIM data in native reference frame"
   ]
  },
  {
   "cell_type": "code",
   "execution_count": null,
   "metadata": {},
   "outputs": [],
   "source": [
    "# add images to napari viewer with scale information\n",
    "viewer = napari.view_image(sim_images,name='Raw OPSIM data',scale=(1,1,1,ds,pixel_size,pixel_size))\n",
    "\n",
    "# activate scale bar in physical units\n",
    "viewer.scale_bar.unit = 'um'\n",
    "viewer.scale_bar.visible = True\n",
    "\n",
    "# label sliders in napari viewer\n",
    "viewer.dims.axis_labels = ['c','a','p','s','y','x']"
   ]
  },
  {
   "cell_type": "markdown",
   "metadata": {},
   "source": [
    "### Calculate deskewed widefield equivalent images for registration\n",
    "  \n",
    "Orthogonal deskew function for OPM extracted from [qi2lab OPM package](https://www.github.com/qi2lab/opm). "
   ]
  },
  {
   "cell_type": "code",
   "execution_count": null,
   "metadata": {},
   "outputs": [],
   "source": [
    "# deskew one channel/angle/phase to get the size of the image\n",
    "test_deskew = deskew(sim_images[0,0,0,:],tilt_angle,ds,pixel_size)\n",
    "n_coverslip_z = test_deskew.shape[0]\n",
    "n_coverslip_y = test_deskew.shape[1]\n",
    "n_coverslip_x = test_deskew.shape[2]\n",
    "coverslip_wf_images = np.zeros((n_colors,n_angles,n_coverslip_z,n_coverslip_y,n_coverslip_x),dtype=np.uint16)\n",
    "\n",
    "# perform deskewing for all widefield equivalent views (average over phases)\n",
    "for channel_idx in range(n_colors):\n",
    "    for angle_idx in range(n_angles):\n",
    "            image_plane = deskew(np.flipud(np.nanmean(sim_images[channel_idx,angle_idx,:,:,:,:],axis=0)),tilt_angle,ds,pixel_size)\n",
    "            coverslip_wf_images[channel_idx,angle_idx,:] = image_plane\n",
    "\n",
    "# clean up variables\n",
    "del test_deskew\n",
    "gc.collect()"
   ]
  },
  {
   "cell_type": "markdown",
   "metadata": {},
   "source": [
    "### Rotate deskewed widefield equivalent images with prior info from instrument"
   ]
  },
  {
   "cell_type": "code",
   "execution_count": null,
   "metadata": {},
   "outputs": [],
   "source": [
    "# pad images to be square\n",
    "max_size = np.maximum(n_coverslip_y,n_coverslip_x)\n",
    "\n",
    "if max_size > n_coverslip_y:\n",
    "    pad_amount_y = np.abs(max_size-n_coverslip_y)//2\n",
    "else:\n",
    "    pad_amount_y = 0\n",
    "if max_size > n_coverslip_x:\n",
    "    pad_amount_x = np.abs(max_size-n_coverslip_x)//2\n",
    "else:\n",
    "    pad_amount_x = 0\n",
    "\n",
    "pad_width = ((0,0),(0,0),(0,0),(pad_amount_y,pad_amount_y+1),(pad_amount_x,pad_amount_x))\n",
    "\n",
    "coverslip_rotated_wf_images = np.pad(coverslip_wf_images,pad_width=pad_width)\n",
    "\n",
    "# rotation angle guesses from instrument design\n",
    "rotation = [60,0,-60]\n",
    "\n",
    "# perform rotation across all z planes for each channel + angle\n",
    "for channel_idx in range(n_colors):\n",
    "    for angle_idx in range(n_angles):\n",
    "        for z_idx in range(n_coverslip_z):\n",
    "            rotated_plane = rotate(coverslip_rotated_wf_images[channel_idx,angle_idx,z_idx,:,:],\n",
    "                                    angle=rotation[angle_idx],\n",
    "                                    center=None,\n",
    "                                    resize=False,\n",
    "                                    mode='constant',\n",
    "                                    cval=0,\n",
    "                                    preserve_range=True)\n",
    "            coverslip_rotated_wf_images[channel_idx,angle_idx,z_idx,:,:] = rotated_plane\n",
    "\n",
    "# clean up variables\n",
    "del coverslip_wf_images\n",
    "gc.collect()"
   ]
  },
  {
   "cell_type": "markdown",
   "metadata": {},
   "source": [
    "### Visualize rotated widefield equivalent images"
   ]
  },
  {
   "cell_type": "code",
   "execution_count": null,
   "metadata": {},
   "outputs": [],
   "source": [
    "# add images to napari viewer with scale information\n",
    "viewer = napari.view_image(coverslip_rotated_wf_images,name='Rotated Widefield equivalent',scale=(1,1,coverslip_dz,coverslip_dy,coverslip_dx))\n",
    "\n",
    "# activate scale bar in physical units\n",
    "viewer.scale_bar.unit = 'um'\n",
    "viewer.scale_bar.visible = True\n",
    "\n",
    "# label sliders in napari viewer\n",
    "viewer.dims.axis_labels = ['c','a','z','y','x']"
   ]
  },
  {
   "cell_type": "markdown",
   "metadata": {},
   "source": [
    "### Determine image registration in coverslip reference frame using deskewed and rotated widefield equivalent images"
   ]
  },
  {
   "cell_type": "code",
   "execution_count": null,
   "metadata": {},
   "outputs": [],
   "source": [
    "# if ITK-elastix results are not satisfactory, set this flag to True to attempt an initial pre-registration using phase correlation\n",
    "# initital value should be False\n",
    "perform_initial_phase_correlation_registration = False\n",
    "\n",
    "# optional phase correlation\n",
    "if perform_initial_phase_correlation_registration:\n",
    "    \n",
    "    # Register using scikit-image\n",
    "    # Create intial guess for translation based on phase-correlation and max projection images\n",
    "    # +60 angle (angle_idx = 0) to 0 angle (angle_idx = 1)\n",
    "    shifts_a000, _, _ = phase_cross_correlation(coverslip_rotated_wf_images[channel_idx,1,:],coverslip_rotated_wf_images[channel_idx,0,:])\n",
    "    tform_a000 = EuclideanTransform(\n",
    "        rotation= 0,\n",
    "        translation = (shifts_a000[2], shifts_a000[1])\n",
    "        )\n",
    "    for z_idx in range(n_coverslip_z):\n",
    "        coverslip_rotated_wf_images[channel_idx,0,z_idx,:]=warp(coverslip_rotated_wf_images[channel_idx,0,z_idx,:], tform_a000.inverse, preserve_range=True)\n",
    "\n",
    "    # -60 angle (angle_idx = 2) to 0 angle (angle_idx = 1)\n",
    "    shifts_a002, _, _ = phase_cross_correlation(coverslip_rotated_wf_images[channel_idx,1,:],coverslip_rotated_wf_images[channel_idx,2,:])\n",
    "    tform_a002 = EuclideanTransform(\n",
    "        rotation= 0,\n",
    "        translation = (shifts_a002[2], shifts_a002[1])\n",
    "        )\n",
    "    for z_idx in range(n_coverslip_z):\n",
    "        coverslip_rotated_wf_images[channel_idx,2,z_idx,:]=warp(coverslip_rotated_wf_images[channel_idx,2,z_idx,:], tform_a002.inverse, preserve_range=True)\n",
    "\n",
    "# Register using ITK-elastix\n",
    "# create ITK array for fixed view\n",
    "# itk-elastix currently supports np.float32 only\n",
    "channel_idx = 0\n",
    "angle_idx = 1\n",
    "fixed_image_a001 = itk.GetImageFromArray(coverslip_rotated_wf_images[channel_idx,angle_idx,:].astype(np.float32))\n",
    "\n",
    "# first, perform translation registration\n",
    "parameter_object = itk.ParameterObject.New()\n",
    "default_translation_parameter_map = parameter_object.GetDefaultParameterMap('translation')\n",
    "default_translation_parameter_map['FinalBSplineInterpolationOrder'] = ['2']\n",
    "parameter_object.AddParameterMap(default_translation_parameter_map)\n",
    "\n",
    "# second, perform rigid registration\n",
    "default_rigid_parameter_map = parameter_object.GetDefaultParameterMap('rigid')\n",
    "default_rigid_parameter_map['FinalBSplineInterpolationOrder'] = ['2']\n",
    "parameter_object.AddParameterMap(default_rigid_parameter_map)\n",
    "\n",
    "# third, perform affine registration\n",
    "default_affine_parameter_map = parameter_object.GetDefaultParameterMap('affine')\n",
    "default_affine_parameter_map['FinalBSplineInterpolationOrder'] = ['2']\n",
    "parameter_object.AddParameterMap(default_affine_parameter_map)\n",
    "\n",
    "# Call registration functions to determine registration of rotated view (angle_idx=[0,2]) to center view (angle_idx=1)\n",
    "\n",
    "# create ITK array for +60 rotated view\n",
    "# itk-elastix currently supports np.float32 only\n",
    "angle_idx = 0\n",
    "moving_image_a000 = itk.GetImageFromArray(coverslip_rotated_wf_images[channel_idx,angle_idx,:].astype(np.float32))\n",
    "\n",
    "# run translation->rigid->affine registration for angle_idx=0\n",
    "result_image_a000, result_transform_parameters_a000_to_a001 = itk.elastix_registration_method(\n",
    "    fixed_image_a001, moving_image_a000,\n",
    "    parameter_object=parameter_object,\n",
    "    log_to_console=False)\n",
    "\n",
    "# clean up variables for +60 rotated view\n",
    "del moving_image_a000\n",
    "gc.collect()\n",
    "\n",
    "# create ITK array for -60 rotated view\n",
    "# itk-elastix currently supports np.float32 only\n",
    "angle_idx = 2\n",
    "moving_image_a002 = itk.GetImageFromArray(coverslip_rotated_wf_images[channel_idx,angle_idx,:].astype(np.float32))\n",
    "\n",
    "# run translation->rigid->affine registration for angle_idx=2\n",
    "result_image_a002, result_transform_parameters_a002_to_a001 = itk.elastix_registration_method(\n",
    "    fixed_image_a001, moving_image_a002,\n",
    "    parameter_object=parameter_object,\n",
    "    log_to_console=False)\n",
    "\n",
    "# clean up variables for -60 rotated view\n",
    "del moving_image_a002\n",
    "gc.collect()\n"
   ]
  },
  {
   "cell_type": "markdown",
   "metadata": {},
   "source": [
    "### Visualize results of registration on deskewed widefield equivalent images\n",
    "If registration results are not satisfactory, change `perform_initial_phase_correlation_registration` in above code block to `True` and re-run registration."
   ]
  },
  {
   "cell_type": "code",
   "execution_count": null,
   "metadata": {},
   "outputs": [],
   "source": [
    "# add images to napari viewer with scale information\n",
    "viewer = napari.view_image(result_image_a000,name='Registered deskewed angle 0',scale=(coverslip_dz,coverslip_dy,coverslip_dx),blending='additive',contrast_limits=[0,np.percentile(result_image_a000, 99.99)])\n",
    "viewer.add_image(fixed_image_a001,name='Registered deskewed angle 1',scale=(coverslip_dz,coverslip_dy,coverslip_dx),blending='additive',contrast_limits=[0,np.percentile(fixed_image_a001, 99.99)])\n",
    "viewer.add_image(result_image_a002,name='Registered deskewed angle 2',scale=(coverslip_dz,coverslip_dy,coverslip_dx),blending='additive',contrast_limits=[0,np.percentile(result_image_a002, 99.99)])\n",
    "\n",
    "# activate scale bar in physical units\n",
    "viewer.scale_bar.unit = 'um'\n",
    "viewer.scale_bar.visible = True\n",
    "\n",
    "# label sliders in napari viewer\n",
    "viewer.dims.axis_labels = ['z','y','x']"
   ]
  },
  {
   "cell_type": "markdown",
   "metadata": {},
   "source": [
    "### Deskew all raw OPSIM images"
   ]
  },
  {
   "cell_type": "code",
   "execution_count": null,
   "metadata": {},
   "outputs": [],
   "source": [
    "# deskew one channel/angle/phase to get the size of the image\n",
    "test_deskew = deskew(sim_images[0,0,0,:],tilt_angle,ds,pixel_size)\n",
    "n_coverslip_z = test_deskew.shape[0]\n",
    "n_coverslip_y = test_deskew.shape[1]\n",
    "n_coverslip_x = test_deskew.shape[2]\n",
    "\n",
    "# create array to hold all deskewed images\n",
    "coverslip_opsim_images = np.zeros((n_colors,n_angles,n_phases,n_coverslip_z,n_coverslip_y,n_coverslip_x),dtype=np.uint16)\n",
    "\n",
    "# perform deskewing for all raw opsim views\n",
    "for channel_idx in range(n_colors):\n",
    "    for angle_idx in range(n_angles):\n",
    "        for phase_idx in range(n_phases):\n",
    "            coverslip_opsim_images[channel_idx,angle_idx,phase_idx,:] = deskew(np.flipud(sim_images[channel_idx,angle_idx,phase_idx,:,:,:]),tilt_angle,ds,pixel_size)\n",
    "\n",
    "# clean up variables\n",
    "del test_deskew, sim_images\n",
    "gc.collect()"
   ]
  },
  {
   "cell_type": "markdown",
   "metadata": {},
   "source": [
    "### Rotate deskewed raw OPSIM images"
   ]
  },
  {
   "cell_type": "code",
   "execution_count": null,
   "metadata": {},
   "outputs": [],
   "source": [
    "# pad images to be square to hold rotated images\n",
    "max_size = np.maximum(n_coverslip_y,n_coverslip_x)\n",
    "\n",
    "if max_size > n_coverslip_y:\n",
    "    pad_amount_y = np.abs(max_size-n_coverslip_y)//2\n",
    "else:\n",
    "    pad_amount_y = 0\n",
    "if max_size > n_coverslip_x:\n",
    "    pad_amount_x = np.abs(max_size-n_coverslip_x)//2\n",
    "else:\n",
    "    pad_amount_x = 0\n",
    "\n",
    "pad_width = ((0,0),(0,0),(0,0),(0,0),(pad_amount_y,pad_amount_y+1),(pad_amount_x,pad_amount_x))\n",
    "rotated_coverslip_opsim_images = np.pad(coverslip_opsim_images,pad_width=pad_width)\n",
    "\n",
    "# rotation angle guesses from instrument design\n",
    "rotation = [60,0,-60]\n",
    "\n",
    "# perform rotation across all z planes for each channel + angle\n",
    "for channel_idx in range(n_colors):\n",
    "    for angle_idx in range(n_angles):\n",
    "        for phase_idx in range(n_phases):\n",
    "            for z_idx in range(n_coverslip_z):\n",
    "                rotated_plane = rotate(rotated_coverslip_opsim_images[channel_idx,angle_idx,phase_idx,z_idx,:,:],\n",
    "                                        angle=rotation[angle_idx],\n",
    "                                        center=None,\n",
    "                                        resize=False,\n",
    "                                        mode='constant',\n",
    "                                        cval=0,\n",
    "                                        preserve_range=True)\n",
    "                rotated_coverslip_opsim_images[channel_idx,angle_idx,phase_idx,z_idx,:,:] = rotated_plane\n",
    "\n",
    "# clean up variables\n",
    "del coverslip_opsim_images\n",
    "gc.collect()"
   ]
  },
  {
   "cell_type": "markdown",
   "metadata": {},
   "source": [
    "### Register deskewed raw OPSIM images using transformation matrices found using deskewed widefield equivalent images"
   ]
  },
  {
   "cell_type": "code",
   "execution_count": null,
   "metadata": {},
   "outputs": [],
   "source": [
    "# create temporary variable to hold results of initial translation warp\n",
    "result_image_translation = np.zeros_like(rotated_coverslip_opsim_images[0,0,0,:])\n",
    "\n",
    "# loop over all channel/angle/phase and apply transformations for angle_idx=[0,2] to angle_idx=1\n",
    "for channel_idx in range(n_colors):\n",
    "    for angle_idx in range(n_angles):\n",
    "        for phase_idx in range(n_phases):\n",
    "            if angle_idx == 0:\n",
    "                if perform_initial_phase_correlation_registration:\n",
    "                    for z_idx in range(n_coverslip_z):\n",
    "                        result_image_translation[z_idx,:]=warp(rotated_coverslip_opsim_images[channel_idx,angle_idx,phase_idx,z_idx,:,:], tform_a000.inverse, preserve_range=True)\n",
    "                    result_image_transformix = itk.transformix_filter(result_image_translation.astype(np.float32),result_transform_parameters_a000_to_a001)\n",
    "                else:\n",
    "                    result_image_transformix = itk.transformix_filter(rotated_coverslip_opsim_images[channel_idx,angle_idx,phase_idx,:].astype(np.float32),result_transform_parameters_a000_to_a001)\n",
    "                rotated_coverslip_opsim_images[channel_idx,angle_idx,phase_idx,:,:,:]=result_image_transformix.astype(np.uint16)\n",
    "            elif angle_idx == 2:\n",
    "                if perform_initial_phase_correlation_registration:\n",
    "                    for z_idx in range(n_coverslip_z):\n",
    "                        result_image_translation[z_idx,:]=warp(rotated_coverslip_opsim_images[channel_idx,angle_idx,phase_idx,z_idx,:,:], tform_a002.inverse, preserve_range=True)\n",
    "                    result_image_transformix = itk.transformix_filter(result_image_translation.astype(np.float32),result_transform_parameters_a002_to_a001)\n",
    "                else:\n",
    "                    result_image_transformix = itk.transformix_filter(rotated_coverslip_opsim_images[channel_idx,angle_idx,phase_idx,:].astype(np.float32),result_transform_parameters_a002_to_a001)\n",
    "                rotated_coverslip_opsim_images[channel_idx,angle_idx,phase_idx,:,:,:]=result_image_transformix.astype(np.uint16)\n",
    "\n",
    "del result_image_translation, result_image_transformix"
   ]
  },
  {
   "cell_type": "markdown",
   "metadata": {},
   "source": [
    "### Visualize registered deskewed OPSIM images in coverslip reference frame"
   ]
  },
  {
   "cell_type": "code",
   "execution_count": null,
   "metadata": {},
   "outputs": [],
   "source": [
    "# add images to napari viewer with scale information\n",
    "viewer = napari.view_image(rotated_coverslip_opsim_images[0,0,:],name='Registered deskewed angle 0',scale=(1,coverslip_dz,coverslip_dy,coverslip_dx),blending='additive',contrast_limits=[0,np.percentile(rotated_coverslip_opsim_images[0,0,:], 99.99)])\n",
    "viewer.add_image(rotated_coverslip_opsim_images[0,1,:],name='Registered deskewed angle 1',scale=(1,coverslip_dz,coverslip_dy,coverslip_dx),blending='additive',contrast_limits=[0,np.percentile(rotated_coverslip_opsim_images[0,1,:], 99.99)])\n",
    "viewer.add_image(rotated_coverslip_opsim_images[0,2,:],name='Registered deskewed angle 2',scale=(1,coverslip_dz,coverslip_dy,coverslip_dx),blending='additive',contrast_limits=[0,np.percentile(rotated_coverslip_opsim_images[0,2,:], 99.99)])\n",
    "\n",
    "# activate scale bar in physical units\n",
    "viewer.scale_bar.unit = 'um'\n",
    "viewer.scale_bar.visible = True\n",
    "\n",
    "# label sliders in napari viewer\n",
    "viewer.dims.axis_labels = ['c','a','p','z','y','x']"
   ]
  },
  {
   "cell_type": "markdown",
   "metadata": {},
   "source": [
    "### Set ROI to middle of registered deskewed OPIM images and extract crop"
   ]
  },
  {
   "cell_type": "code",
   "execution_count": null,
   "metadata": {},
   "outputs": [],
   "source": [
    "# set yx width of ROI\n",
    "roi_sy=429\n",
    "roi_sx=449\n",
    "roi = rois.get_centered_roi([rotated_coverslip_opsim_images.shape[4]//2, rotated_coverslip_opsim_images.shape[5]//2], [roi_sy, roi_sx])\n",
    "\n",
    "# set these using the z slices that contain data from the Napari preview window above\n",
    "z_roi_low = 25\n",
    "z_roi_high = 95\n",
    "\n",
    "# extract crop\n",
    "opsim_images_to_process = rotated_coverslip_opsim_images[:,:,:,z_roi_low:z_roi_high,roi[0]:roi[1],roi[2]:roi[3]]\n",
    "\n",
    "# extract shape of cropped data\n",
    "nz_cropped = opsim_images_to_process.shape[3]\n",
    "ny_cropped = opsim_images_to_process.shape[4]\n",
    "nx_cropped = opsim_images_to_process.shape[5]"
   ]
  },
  {
   "cell_type": "markdown",
   "metadata": {},
   "source": [
    "### Visualize cropped registered deskewed OPSIM images to pick \"best\" slice"
   ]
  },
  {
   "cell_type": "code",
   "execution_count": null,
   "metadata": {},
   "outputs": [],
   "source": [
    "# add images to napari viewer with scale information\n",
    "viewer = napari.view_image(opsim_images_to_process[0,0,:],name='Registered deskewed angle 0',scale=(1,coverslip_dz,coverslip_dy,coverslip_dx),blending='additive',contrast_limits=[0,np.percentile(opsim_images_to_process[0,0,:], 99.99)])\n",
    "viewer.add_image(opsim_images_to_process[0,1,:],name='Registered deskewed angle 1',scale=(1,coverslip_dz,coverslip_dy,coverslip_dx),blending='additive',contrast_limits=[0,np.percentile(opsim_images_to_process[0,1,:], 99.99)])\n",
    "viewer.add_image(opsim_images_to_process[0,2,:],name='Registered deskewed angle 2',scale=(1,coverslip_dz,coverslip_dy,coverslip_dx),blending='additive',contrast_limits=[0,np.percentile(opsim_images_to_process[0,2,:], 99.99)])\n",
    "\n",
    "# activate scale bar in physical units\n",
    "viewer.scale_bar.unit = 'um'\n",
    "viewer.scale_bar.visible = True\n",
    "\n",
    "# label sliders in napari viewer\n",
    "viewer.dims.axis_labels = ['c','a','p','z','y','x']"
   ]
  },
  {
   "cell_type": "markdown",
   "metadata": {},
   "source": [
    "### Find SIM peaks for each angle\n",
    "See [this section of the I2K mcSIM tutorial](https://youtu.be/mDar-MjMtW0?t=6421) video and our [Nikon N-SIM processing tutorial](https://github.com/QI2lab/I2K2022-SIM/blob/0660281c28a809fdc09c36b00903b9230feb4d9c/example_004_Nikon_NSIM.ipynb) for how use the code block to find SIM frequencies."
   ]
  },
  {
   "cell_type": "code",
   "execution_count": null,
   "metadata": {},
   "outputs": [],
   "source": [
    "%matplotlib widget\n",
    "\n",
    "# set \"test\" slice as determined from data\n",
    "# chose a z slice with lots of data so that the SIM peaks are visible\n",
    "z_test_idx=22\n",
    "\n",
    "for ch_idx in range(n_colors):\n",
    "\n",
    "    # extract iamges\n",
    "    image_set = opsim_images_to_process[ch_idx,:,:,z_test_idx,:,:]\n",
    "\n",
    "    # calculate FFTs on grid with correct spatial dimensions\n",
    "    dx = np.round(coverslip_dx,3)\n",
    "    dy = np.round(coverslip_dy,3)\n",
    "    nx = nx_cropped\n",
    "    ny = ny_cropped\n",
    "    fxs = analysis_tools.get_fft_frqs(nx, dx)\n",
    "    df = fxs[1] - fxs[0]\n",
    "    fys = analysis_tools.get_fft_frqs(ny, dy)\n",
    "    ff = np.sqrt(np.expand_dims(fxs, axis=0)**2 + np.expand_dims(fys, axis=1)**2)\n",
    "    for ii in range(image_set.shape[0]):\n",
    "        ft = fft.fftshift(fft.fft2(fft.ifftshift(np.squeeze(image_set[ii, 0, :]))))\n",
    "\n",
    "        figh = plt.figure()\n",
    "        plt.title('Channel='+str(ch_idx)+\", Angle=\"+str(ii))\n",
    "        plt.imshow(np.abs(ft), norm=PowerNorm(gamma=0.1,vmin=65,vmax=1.5e7),\n",
    "                    extent=[fxs[0] - 0.5 * df, fxs[-1] + 0.5 * df, fys[-1] + 0.5 * df, fys[0] - 0.5 * df])\n",
    "        plt.show()"
   ]
  },
  {
   "cell_type": "markdown",
   "metadata": {},
   "source": [
    "### Setup 2D-SIM processing\n",
    "\n",
    "It is critical to set the initial guesses for SIM peaks correctly in `frqs_guess`. Double check results using diagnostic output plots."
   ]
  },
  {
   "cell_type": "code",
   "execution_count": null,
   "metadata": {},
   "outputs": [],
   "source": [
    "# frequency guess from above. in k_x, k_y order\n",
    "# getting these as close as possible is critical to reconstruction quality!\n",
    "frq_guess = [[-1.33,2.28], [-2.63,0.005], [-1.29,-2.28]]\n",
    "\n",
    "# phase guesses from prior knowledge\n",
    "phase_guess = [[0, -4*np.pi/3,-2*np.pi/3], [0, -4*np.pi/3,-2*np.pi/3], [0, -4*np.pi/3,-2*np.pi/3]]\n",
    "\n",
    "# algorithm parameters\n",
    "# These need to be tuned for each OPSIM dataset\n",
    "wiener_parameter = 0.35\n",
    "band0_exclusion_fraction = 0.5"
   ]
  },
  {
   "cell_type": "markdown",
   "metadata": {},
   "source": [
    "### Load point spread function and calculate optical transfer function for each angle\n",
    "\n",
    "2D PSF extracted from OPSIM data of beads by Reto Fiolka and Peter Brown using [qi2lab localize-psf package](https://www.github.com/qi2lab/localize-psf).  "
   ]
  },
  {
   "cell_type": "code",
   "execution_count": null,
   "metadata": {},
   "outputs": [],
   "source": [
    "# load PSF from disk and tranpose to match metadata from raw data\n",
    "psf2d = np.transpose(tifffile.imread(psf_file_path))\n",
    "ny_psf, nx_psf = psf2d.shape\n",
    "\n",
    "# create one PSF for each angle\n",
    "psfs = np.asarray([rotate(psf2d, rotation[0], center=None, resize=False, mode='constant', cval=0, preserve_range=True),\n",
    "                   psf2d,\n",
    "                   rotate(psf2d, rotation[2], center=None, resize=False, mode='constant', cval=0, preserve_range=True)])\n",
    "\n",
    "# pad to get size of image\n",
    "if np.mod(ny_psf + ny_cropped, 2) != 0 or np.mod(nx_psf + nx_cropped, 2) != 0:\n",
    "    raise ValueError()\n",
    "\n",
    "# pad each PSF\n",
    "ny_pad = int((ny_cropped - ny_psf) / 2)\n",
    "nx_pad = int((nx_cropped - nx_psf) / 2)\n",
    "psfs_padded = []\n",
    "for p in psfs:\n",
    "    psfs_padded.append(np.pad(p, ((ny_pad, ny_pad), (nx_pad, nx_pad)), mode=\"constant\"))\n",
    "psfs_padded = np.asarray(psfs_padded)\n",
    "\n",
    "# get spatial frequencies on correct grid\n",
    "fxs = fft.fftshift(fft.fftfreq(nx_cropped, coverslip_dx))\n",
    "df = fxs[1] - fxs[0]\n",
    "fys = fft.fftshift(fft.fftfreq(ny_cropped, coverslip_dy))\n",
    "ff = np.sqrt(np.expand_dims(fxs, axis=0)**2 + np.expand_dims(fys, axis=1)**2)\n",
    "\n",
    "# create OTF for each angle\n",
    "fmax = 1 / (0.5 * emission_wavelengths / na)\n",
    "otfs = []\n",
    "for p in psfs_padded:\n",
    "    otf = fft.fftshift(fft.fft2(fft.ifftshift(p)))\n",
    "    otf = otf / np.max(np.abs(otf))\n",
    "    otf[np.abs(otf) < 0.005] = 0\n",
    "    otf[ff > fmax] = 0\n",
    "    otf = np.abs(otf)\n",
    "\n",
    "    otfs.append(otf)\n",
    "otfs = np.asarray(otfs)"
   ]
  },
  {
   "cell_type": "markdown",
   "metadata": {},
   "source": [
    "### Run 2D-SIM processing for test z slice and extract reconstruction parameters\n",
    "  \n",
    "Modifications to [qi2lab mcSIM package](https://www.github.com/qi2lab/mcSIM) to handle OPSIM data by Peter Brown.  \n",
    "  \n",
    "Ouputs diagnostic plots in \"reconstruction/test_z_plane\" directory"
   ]
  },
  {
   "cell_type": "code",
   "execution_count": null,
   "metadata": {},
   "outputs": [],
   "source": [
    "# define save path\n",
    "save_path = Path(\"data\", \"example_005\", \"reconstruction\", \"test_z_plane\")\n",
    "\n",
    "# create SIM reconstruction object for z_center_idx \n",
    "imgset_test = sim.SimImageSet({'pixel_size': coverslip_dx, 'na': na, 'wavelength': emission_wavelengths},\n",
    "                               opsim_images_to_process[0, :, :, z_test_idx, :],\n",
    "                               frq_guess=frq_guess,\n",
    "                               phases_guess=phase_guess,\n",
    "                               wiener_parameter=wiener_parameter,\n",
    "                               phase_estimation_mode=\"wicker-iterative\",\n",
    "                               max_phase_err=40 * np.pi / 180,\n",
    "                               combine_bands_mode=\"fairSIM\", \n",
    "                               otf=otfs,\n",
    "                               fmax_exclude_band0=band0_exclusion_fraction,\n",
    "                               min_p2nr=0.9,\n",
    "                               gain=1, \n",
    "                               background=100,\n",
    "                               save_dir=save_path,\n",
    "                               save_suffix='_z'+str(z_test_idx).zfill(3)+'_ch'+str(0).zfill(3),\n",
    "                               interactive_plotting=False)\n",
    "\n",
    "# perform reconstruction, plot figures, save\n",
    "imgset_test.reconstruct()\n",
    "imgset_test.plot_figs()\n",
    "imgset_test.save_imgs()\n",
    "imgset_test.save_result()\n",
    "\n",
    "# save reconstruction parameter for use on full stack\n",
    "frqs = np.array(imgset_test.frqs, copy=True)\n",
    "phases = np.array(imgset_test.phases, copy=True)\n",
    "mod_depths = np.array(imgset_test.mod_depths, copy=True)\n",
    "\n",
    "wf_image_test = imgset_test.widefield\n",
    "SR_image_test = imgset_test.sim_sr\n",
    "\n",
    "# clean up variables\n",
    "del imgset_test\n",
    "gc.collect()"
   ]
  },
  {
   "cell_type": "markdown",
   "metadata": {},
   "source": [
    "### Visualize test slice reconstruction"
   ]
  },
  {
   "cell_type": "code",
   "execution_count": null,
   "metadata": {},
   "outputs": [],
   "source": [
    "# define colormaps\n",
    "colormaps = ['bop blue', 'bop orange']\n",
    "\n",
    "# add images to napari viewer with scale information, colormaps, and additive blending\n",
    "viewer = napari.view_image(wf_image_test,name='Widefield test',scale=(coverslip_dy,coverslip_dx),colormap = colormaps[0],blending='additive',contrast_limits=[0,np.percentile(wf_image_test, 99.9)])\n",
    "viewer.add_image(SR_image_test,name='SIM test',scale=(coverslip_dy/2,coverslip_dx/2),colormap = colormaps[1],blending='additive',contrast_limits=[0,np.percentile(SR_image_test,99.9)])\n",
    "\n",
    "# activate scale bar in physical units\n",
    "viewer.scale_bar.unit = 'um'\n",
    "viewer.scale_bar.visible = True"
   ]
  },
  {
   "cell_type": "markdown",
   "metadata": {},
   "source": [
    "### Reconstruct full z stack of cropped registered deskewed OPSIM images using parameters from selected z plane"
   ]
  },
  {
   "cell_type": "code",
   "execution_count": null,
   "metadata": {},
   "outputs": [],
   "source": [
    "# define save path\n",
    "save_path = Path(\"data\", \"example_005\", \"reconstruction\", \"full_z_stack\")\n",
    "\n",
    "# loop over channels and z slices, perform 2D at each slice using parameters from above reconstruction\n",
    "for ch_idx in range(n_colors):\n",
    "    for z_idx in range(nz_cropped):\n",
    "        imgs_recon = opsim_images_to_process[ch_idx, :, :, z_idx,:,:]\n",
    "\n",
    "        imgset = sim.SimImageSet({'pixel_size': coverslip_dx, 'na': na, 'wavelength': emission_wavelengths}, \n",
    "                                imgs_recon,\n",
    "                                frq_guess=frqs,\n",
    "                                frq_estimation_mode=\"fixed\",\n",
    "                                phases_guess=phases,\n",
    "                                phase_estimation_mode=\"fixed\",\n",
    "                                max_phase_err=40 * np.pi / 180,\n",
    "                                mod_depths_guess=mod_depths,\n",
    "                                use_fixed_mod_depths=True,\n",
    "                                wiener_parameter=wiener_parameter,\n",
    "                                combine_bands_mode=\"fairSIM\",\n",
    "                                fmax_exclude_band0=band0_exclusion_fraction,\n",
    "                                otf=otfs,\n",
    "                                gain=1, \n",
    "                                background=100,\n",
    "                                save_dir=save_path, \n",
    "                                save_suffix='_z'+str(z_idx).zfill(3)+'_ch'+str(0).zfill(3),\n",
    "                                interactive_plotting=False)\n",
    "        imgset.reconstruct()\n",
    "        imgset.save_result()\n",
    "        imgset.save_imgs()\n",
    "        imgset.plot_figs()\n",
    "\n",
    "        # create variables to hold widefield and SIM SR images\n",
    "        if ch_idx == 0 and z_idx == 0:\n",
    "            wf_images = np.zeros((n_colors,nz_cropped,imgset.widefield.shape[0],imgset.widefield.shape[1]),dtype=np.float32)\n",
    "            SR_images = np.zeros((n_colors,nz_cropped,imgset.sim_sr.shape[0],imgset.sim_sr.shape[1]),dtype=np.float32)\n",
    "\n",
    "        # store widefield and SIM SR images for display\n",
    "        wf_images[ch_idx,z_idx,:]=imgset.widefield\n",
    "        SR_images[ch_idx,z_idx,:]=imgset.sim_sr\n",
    "\n",
    "        # clean up variables\n",
    "        del imgs_recon, imgset\n",
    "        gc.collect()"
   ]
  },
  {
   "cell_type": "markdown",
   "metadata": {},
   "source": [
    "### Visualize z stack SIM reconstruction"
   ]
  },
  {
   "cell_type": "code",
   "execution_count": null,
   "metadata": {},
   "outputs": [],
   "source": [
    "# define colormaps\n",
    "colormaps = ['bop blue', 'bop orange']\n",
    "\n",
    "# add images to napari viewer with scale information, colormaps, and additive blending\n",
    "viewer = napari.view_image(wf_images[ch_idx,:],name='Widefield CH '+str(ch_idx).zfill(2),scale=(coverslip_dz,coverslip_dy,coverslip_dx),colormap = colormaps[0],blending='additive',contrast_limits=[0,np.percentile(wf_images[ch_idx,:], 99.9)])\n",
    "viewer.add_image(SR_images[ch_idx,:],name='SR CH '+str(ch_idx).zfill(2),scale=(coverslip_dz,coverslip_dy/2,coverslip_dx/2),colormap = colormaps[1],blending='additive',contrast_limits=[0,np.percentile(SR_images[ch_idx,:], 99.99)])\n",
    "\n",
    "# activate scale bar in physical units\n",
    "viewer.scale_bar.unit = 'um'\n",
    "viewer.scale_bar.visible = True"
   ]
  },
  {
   "cell_type": "markdown",
   "metadata": {},
   "source": [
    "### Write widefield equivalent and SIM reconstructions to disk"
   ]
  },
  {
   "cell_type": "code",
   "execution_count": null,
   "metadata": {},
   "outputs": [],
   "source": [
    "# loop over all channels\n",
    "for ch_idx in range(n_colors):\n",
    "  # widefield\n",
    "  save_path_wf = Path(\"data\", \"example_005\", \"reconstruction\", \"ch_\"+str(ch_idx).zfill(3)+\"_reconstruction_wf.tif\")\n",
    "  tifffile.imwrite(save_path_wf,\n",
    "                  wf_images[ch_idx,:], \n",
    "                  imagej=True, \n",
    "                  resolution=(1./(coverslip_dx), 1./(coverslip_dy)), \n",
    "                  metadata={'spacing': coverslip_dz, 'unit': 'um', 'min': 0,'max': 2**16-1,'axes': 'ZYX'})\n",
    "\n",
    "  # opsim\n",
    "  save_path_opsim = Path(\"data\", \"example_005\", \"reconstruction\", \"ch_\"+str(ch_idx).zfill(3)+\"_reconstruction_opsim.tif\")\n",
    "  tifffile.imwrite(save_path_opsim, \n",
    "                  SR_images[ch_idx,:], \n",
    "                  imagej=True, \n",
    "                  resolution=(1./(coverslip_dx/2), 1./(coverslip_dy/2)), \n",
    "                  metadata={'spacing': coverslip_dz, 'unit': 'um', 'min': 0,'max': 2**16-1,'axes': 'ZYX'})"
   ]
  }
 ],
 "metadata": {
  "interpreter": {
   "hash": "280779b9dc319f28be129fbec6c601e6bcecfe0e4caad8daf06221ac8d451a95"
  },
  "kernelspec": {
   "display_name": "Python 3.10.4 ('mcSIMpy10')",
   "language": "python",
   "name": "python3"
  },
  "language_info": {
   "codemirror_mode": {
    "name": "ipython",
    "version": 3
   },
   "file_extension": ".py",
   "mimetype": "text/x-python",
   "name": "python",
   "nbconvert_exporter": "python",
   "pygments_lexer": "ipython3",
   "version": "3.10.4"
  },
  "orig_nbformat": 4
 },
 "nbformat": 4,
 "nbformat_minor": 2
}
