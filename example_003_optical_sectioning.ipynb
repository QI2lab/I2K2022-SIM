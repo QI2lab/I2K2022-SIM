{
 "cells": [
  {
   "cell_type": "markdown",
   "metadata": {},
   "source": [
    "# Example 003 - use band replacement to include optical sectionining as part of 2D-SIM reconstruction\n",
    "  \n",
    "In real samples, there is often background due to fluorescence from above / below the focal plane. This lowers modulation contrast to noise ratio (MCNR) and limits the reconstruction quality for 2D-SIM. Here, we introduce a variant on existing methods by Shaw and O'Halleran to achieve optical sectioning due 2D-SIM reconstruction.\n",
    "\n",
    "We utilize a z-stack of 2D-SIM acquisitions through a tetrahymena sample, immunofluorescence labeled for basal bodies, as our dataset. Sample provided by Dr. Nick Galati."
   ]
  },
  {
   "cell_type": "markdown",
   "metadata": {},
   "source": [
    "### Import libraries"
   ]
  },
  {
   "cell_type": "code",
   "execution_count": null,
   "metadata": {},
   "outputs": [],
   "source": [
    "import os\n",
    "import pickle\n",
    "from pathlib import Path\n",
    "import mcsim.analysis.sim_reconstruction as sim\n",
    "import localize_psf.fit_psf as psf\n",
    "import localize_psf.affine as affine\n",
    "import localize_psf.rois as rois\n",
    "import napari\n",
    "import tifffile\n",
    "import numpy as np\n",
    "from numpy import fft\n",
    "from mcsim.analysis import analysis_tools\n",
    "import matplotlib.pyplot as plt\n",
    "from matplotlib.colors import PowerNorm"
   ]
  },
  {
   "cell_type": "markdown",
   "metadata": {},
   "source": [
    "### Load experimental data containing all z stage positions and patterns."
   ]
  },
  {
   "cell_type": "code",
   "execution_count": null,
   "metadata": {},
   "outputs": [],
   "source": [
    "ncolors = 1\n",
    "nangles = 3\n",
    "nphases = 3\n",
    "nz = 35\n",
    "nx = 2048\n",
    "ny = 2048\n",
    "imgs = tifffile.imread(Path(\"data\", \"example_003\",\"raw_data\",\"tetrahymena_basal_bodies.tif\")).reshape([ncolors, nangles, nphases, nz, ny, nx])\n",
    "imgs = np.swapaxes(imgs,1,2)"
   ]
  },
  {
   "cell_type": "markdown",
   "metadata": {},
   "source": [
    "### Define experimental metadata"
   ]
  },
  {
   "cell_type": "code",
   "execution_count": null,
   "metadata": {},
   "outputs": [],
   "source": [
    "na = 1.3\n",
    "pixel_size = 0.065\n",
    "dz = 0.250\n",
    "excitation_wavelengths = 0.465\n",
    "emission_wavelengths = 0.509"
   ]
  },
  {
   "cell_type": "markdown",
   "metadata": {},
   "source": [
    "### View raw DMD-SIM data"
   ]
  },
  {
   "cell_type": "code",
   "execution_count": null,
   "metadata": {},
   "outputs": [],
   "source": [
    "viewer = napari.view_image(imgs,name='Raw DMD-SIM',scale=(1,1,1,dz,pixel_size,pixel_size))"
   ]
  },
  {
   "cell_type": "markdown",
   "metadata": {},
   "source": [
    "### Define region of interest containing data"
   ]
  },
  {
   "cell_type": "code",
   "execution_count": null,
   "metadata": {},
   "outputs": [],
   "source": [
    "# [cy, cx]\n",
    "roi = rois.get_centered_roi([1230, 996], [731, 631])\n",
    "nx_roi = roi[3] - roi[2]\n",
    "ny_roi = roi[1] - roi[0]"
   ]
  },
  {
   "cell_type": "markdown",
   "metadata": {},
   "source": [
    "### Load experimental optical transfer function"
   ]
  },
  {
   "cell_type": "code",
   "execution_count": null,
   "metadata": {},
   "outputs": [],
   "source": [
    "otf_data_path = Path(\"data\", \"example_003\", \"calibration\", \"2020_05_19_otf_fit_blue.pkl\")\n",
    "\n",
    "with open(otf_data_path, 'rb') as f:\n",
    "    otf_data = pickle.load(f)\n",
    "otf_p = otf_data['fit_params']\n",
    "\n",
    "otf_fn = lambda f, fmax: 1 / (1 + (f / fmax * otf_p[0]) ** 2) * psf.circ_aperture_otf(f, 0, na, 2 * na / fmax)"
   ]
  },
  {
   "cell_type": "markdown",
   "metadata": {},
   "source": [
    "### Load pre-calculated affine transforms for qi2lab DMD-SIM."
   ]
  },
  {
   "cell_type": "code",
   "execution_count": null,
   "metadata": {},
   "outputs": [],
   "source": [
    "affine_fnames = [Path(\"data\", \"example_003\", \"calibration\", \"2021-04-13_12;49;32_affine_xform_blue_z=0.pkl\")]\n",
    "\n",
    "affine_xforms = []\n",
    "for p in affine_fnames:\n",
    "    with open(p, 'rb') as f:\n",
    "        affine_xforms.append(pickle.load(f)['affine_xform'])"
   ]
  },
  {
   "cell_type": "markdown",
   "metadata": {},
   "source": [
    "### Load qi2lab DMD-SIM patterns. Estimate frequency and phase using extracted affine transforms."
   ]
  },
  {
   "cell_type": "code",
   "execution_count": null,
   "metadata": {},
   "outputs": [],
   "source": [
    "dmd_pattern_data_fpath = [Path(\"data\", \"example_003\", \"calibration\", \"period=6.0_nangles=3\", \"wavelength=473nm\", \"sim_patterns_period=6.01_nangles=3.pkl\")]\n",
    "\n",
    "frqs_dmd = np.zeros((2, 3, 2))\n",
    "phases_dmd = np.zeros((ncolors, nangles, nphases))\n",
    "\n",
    "for kk in range(ncolors):\n",
    "    ppath = dmd_pattern_data_fpath[kk]\n",
    "    xform = affine_xforms[kk]\n",
    "\n",
    "    with open(ppath, 'rb') as f:\n",
    "        pattern_data = pickle.load(f)\n",
    "\n",
    "    # DMD intensity frequency and phase (twice electric field frq/phase)\n",
    "    frqs_dmd[kk] = 2 * pattern_data['frqs']\n",
    "    phases_dmd[kk] = 2 * pattern_data['phases']\n",
    "    dmd_nx = pattern_data['nx']\n",
    "    dmd_ny = pattern_data['ny']\n",
    "\n",
    "for kk in range(ncolors):\n",
    "    # otf matrix\n",
    "    fmax = 1 / (0.5 * emission_wavelengths / na)\n",
    "    fx = fft.fftshift(fft.fftfreq(nx_roi, pixel_size))\n",
    "    fy = fft.fftshift(fft.fftfreq(ny_roi, pixel_size))\n",
    "    ff = np.sqrt(fx[None, :] ** 2 + fy[:, None] ** 2)\n",
    "    otf = otf_fn(ff, fmax)\n",
    "    otf[ff >= fmax] = 0\n",
    "\n",
    "    # guess frequencies/phases\n",
    "    frqs_guess = np.zeros((nangles, 2))\n",
    "    phases_guess = np.zeros((nangles, nphases))\n",
    "    for ii in range(nangles):\n",
    "        for jj in range(nphases):\n",
    "            # estimate frequencies based on affine_xform\n",
    "            frqs_guess[ii, 0], frqs_guess[ii, 1], phases_guess[ii, jj] = \\\n",
    "                affine.xform_sinusoid_params_roi(frqs_dmd[kk, ii, 0], frqs_dmd[kk, ii, 1],\n",
    "                                                 phases_dmd[kk, ii, jj], [dmd_ny, dmd_nx], roi, xform)\n",
    "\n",
    "    # convert from 1/mirrors to 1/um\n",
    "    frqs_guess = frqs_guess / pixel_size"
   ]
  },
  {
   "cell_type": "markdown",
   "metadata": {},
   "source": [
    "### Perform SIM reconstruction"
   ]
  },
  {
   "cell_type": "code",
   "execution_count": null,
   "metadata": {},
   "outputs": [],
   "source": [
    "%matplotlib inline\n",
    "save_path = Path(\"data\",\"example_004\",\"reconstruction\")\n",
    "for ch_idx in range(ncolors):\n",
    "    for z_idx in range(14,15):\n",
    "        imgset = sim.SimImageSet({\"pixel_size\": pixel_size, \"na\": na, \"wavelength\": emission_wavelengths},\n",
    "                                imgs[0, :, :, z_idx, roi[0]:roi[1], roi[2]:roi[3]],\n",
    "                                frq_estimation_mode=\"band-correlation\",\n",
    "                                frq_guess=frqs_guess,\n",
    "                                phases_guess=phases_guess,\n",
    "                                phase_estimation_mode=\"wicker-iterative\",\n",
    "                                combine_bands_mode=\"fairSIM\",\n",
    "                                fmax_exclude_band0=0.5,\n",
    "                                normalize_histograms=True,\n",
    "                                otf=otf,\n",
    "                                wiener_parameter=0.4,\n",
    "                                background=100, \n",
    "                                gain=2, \n",
    "                                min_p2nr=0.25, \n",
    "                                max_phase_err=15,\n",
    "                                save_dir=Path(\"data\",\"example_003\",\"reconstruction\"),\n",
    "                                save_suffix=\"_z\"+str(z_idx).zfill(3)+\"_ch\"+str(ch_idx).zfill(3),\n",
    "                                interactive_plotting=False, \n",
    "                                figsize=(20, 13))\n",
    "\n",
    "        imgset.reconstruct()\n",
    "        imgset.plot_figs()\n",
    "        imgset.save_imgs()\n",
    "        imgset.log_file.close()\n",
    "\n",
    "        if ch_idx == 0 and z_idx == 0:\n",
    "            wf_images = np.zeros((ncolors,nz,imgset.widefield.shape[0],imgset.widefield.shape[1]),dtype=np.float32)\n",
    "            SR_images = np.zeros((ncolors,nz,imgset.sim_sr.shape[0],imgset.sim_sr.shape[1]),dtype=np.float32)\n",
    "        wf_images[ch_idx,z_idx,:]=imgset.widefield\n",
    "        SR_images[ch_idx,z_idx,:]=imgset.sim_sr\n",
    "\n",
    "        del imgset"
   ]
  },
  {
   "cell_type": "markdown",
   "metadata": {},
   "source": [
    "### Display results"
   ]
  },
  {
   "cell_type": "code",
   "execution_count": null,
   "metadata": {},
   "outputs": [],
   "source": [
    "colormaps = ['bop blue', 'bop orange']\n",
    "\n",
    "viewer = napari.view_image(wf_images[ch_idx,:],name='Widefield CH '+str(ch_idx).zfill(2),scale=(dz,pixel_size,pixel_size),colormap = colormaps[0],blending='additive',contrast_limits=[0,2**16-1])\n",
    "viewer.add_image(SR_images[ch_idx,:],name='SR CH '+str(ch_idx).zfill(2),scale=(dz,pixel_size/2,pixel_size/2),colormap = colormaps[1],blending='additive',contrast_limits=[0,2**16-1])\n",
    "\n",
    "viewer.scale_bar.unit = 'um'\n",
    "viewer.scale_bar.visible = True"
   ]
  },
  {
   "cell_type": "markdown",
   "metadata": {},
   "source": [
    "### Calculate FFT of raw data to find frequency guesses"
   ]
  },
  {
   "cell_type": "code",
   "execution_count": null,
   "metadata": {},
   "outputs": [],
   "source": [
    "%matplotlib widget\n",
    "for z_idx in range(14,15):\n",
    "\n",
    "    image_set = imgs[0, :, :, z_idx, :, :]\n",
    "\n",
    "    dx = pixel_size\n",
    "    fxs = analysis_tools.get_fft_frqs(nx, dx)\n",
    "    df = fxs[1] - fxs[0]\n",
    "    fys = analysis_tools.get_fft_frqs(ny, dx)\n",
    "    ff = np.sqrt(np.expand_dims(fxs, axis=0)**2 + np.expand_dims(fys, axis=1)**2)\n",
    "    for ii in range(image_set.shape[0]):\n",
    "        ft = fft.fftshift(fft.fft2(fft.ifftshift(np.squeeze(image_set[ii, 0, :]))))\n",
    "\n",
    "        figh = plt.figure()\n",
    "        plt.title('Z='+str(ch_idx)+\", Angle=\"+str(ii))\n",
    "        plt.imshow(np.abs(ft), norm=PowerNorm(gamma=0.1,vmin=65,vmax=1.5e7),\n",
    "                    extent=[fxs[0] - 0.5 * df, fxs[-1] + 0.5 * df, fys[-1] + 0.5 * df, fys[0] - 0.5 * df])\n",
    "        plt.show()"
   ]
  }
 ],
 "metadata": {
  "interpreter": {
   "hash": "e966e8575e80f21eefd148db0808d44eea9284358157c0ee2fd32e18adfd524e"
  },
  "kernelspec": {
   "display_name": "Python 3.9.12 ('mcsimi2k')",
   "language": "python",
   "name": "python3"
  },
  "language_info": {
   "codemirror_mode": {
    "name": "ipython",
    "version": 3
   },
   "file_extension": ".py",
   "mimetype": "text/x-python",
   "name": "python",
   "nbconvert_exporter": "python",
   "pygments_lexer": "ipython3",
   "version": "3.9.12"
  },
  "orig_nbformat": 4
 },
 "nbformat": 4,
 "nbformat_minor": 2
}
