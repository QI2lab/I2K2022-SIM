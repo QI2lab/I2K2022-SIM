{
 "cells": [
  {
   "cell_type": "markdown",
   "metadata": {},
   "source": [
    "# Example 001 - estimate affine transform that maps spatial light modulator to camera\n",
    "  \n",
    "If a spatial light modulator is used to generate patterns, it is possible to create a calibration mapping. This mapping allows for high accuracy estimates of illumination pattern frequency and phase. These estimates remove the need to manually estimate the pattern frequency and phase, allowing for improved SIM reconstructions.\n",
    "\n",
    "Here, we use a set of specialized patterns displayed on a digital micromirror device (DMD) and a sample with uniform fluorescence. Specifically, we deposisted of a thin layer of concentrated fluorescent dye between a slide and #1.5 coverslip.   "
   ]
  },
  {
   "cell_type": "markdown",
   "metadata": {},
   "source": [
    "### Import libraries "
   ]
  },
  {
   "cell_type": "code",
   "execution_count": null,
   "metadata": {},
   "outputs": [],
   "source": [
    "import numpy as np\n",
    "from pathlib import Path\n",
    "import matplotlib.pyplot as plt\n",
    "import mcsim.analysis.fit_dmd_affine as fit_dmd_affine\n",
    "import mcsim.analysis.dmd_patterns as dmd\n",
    "import mcsim.analysis.mm_io as mm_io"
   ]
  },
  {
   "cell_type": "markdown",
   "metadata": {},
   "source": [
    "### Define metadata for calibration experiment"
   ]
  },
  {
   "cell_type": "code",
   "execution_count": null,
   "metadata": {},
   "outputs": [],
   "source": [
    "# filename\n",
    "filename = Path(\"data\", \"example_001\",\"raw_data\",\"affine_calibration.tif\")\n",
    "\n",
    "# channel labels corresponding to excitation laser\n",
    "# acquired on microscope \n",
    "channel_labels = [\"465 nm\", \"635 nm\", \"532 nm\"]\n",
    "\n",
    "# guesses at center of patterns on camera for each channel\n",
    "centers_init = [[1039, 918], [982, 976], [1091, 979]]\n",
    "indices_init = [[10, 16], [9, 16], [10, 15]] #[dmd short axis, dmd long axis]\n",
    "\n",
    "# region of interest for fitting individual spots\n",
    "roi_size = 25\n",
    "\n",
    "# microscope metadata for camera pixel size, DMD pixel size, and expected magnification between DMD and camera\n",
    "options = {'cam_pix': 6.5e-6,\n",
    "           'dmd_pix': 7.56e-6,\n",
    "           'dmd2cam_mag_expected': 180 / 300 * 400 / 200}\n",
    "\n",
    "# function to return spot size\n",
    "def sigma_pix(wl1, wl2, na, cam_mag):\n",
    "    return np.sqrt(wl1**2 + wl2**2) / 2 / na / (2 * np.sqrt(2 * np.log(2))) / (options[\"cam_pix\"] / cam_mag)"
   ]
  },
  {
   "cell_type": "markdown",
   "metadata": {},
   "source": [
    "### Load patterns that were displayed on DMD"
   ]
  },
  {
   "cell_type": "code",
   "execution_count": null,
   "metadata": {},
   "outputs": [],
   "source": [
    "# load DMD pattern and dmd_centers\n",
    "masks, radii, pattern_centers = dmd.get_affine_fit_pattern([1920, 1080])\n",
    "mask = masks[1]"
   ]
  },
  {
   "cell_type": "markdown",
   "metadata": {},
   "source": [
    "### Determine calibration and plot"
   ]
  },
  {
   "cell_type": "code",
   "execution_count": null,
   "metadata": {},
   "outputs": [],
   "source": [
    "%matplotlib widget\n",
    "# read imges for each channel, perform calibration, and create plots\n",
    "for nc in range(len(channel_labels)):\n",
    "        img, _ = mm_io.read_tiff(filename, slices=nc)\n",
    "        img = img[0]\n",
    "        affine_xform = fit_dmd_affine.estimate_xform(img, mask, pattern_centers, centers_init,\n",
    "                                                     indices_init, options, roi_size=roi_size,\n",
    "                                                     export_fname=None,\n",
    "                                                     export_dir=None, chi_squared_relative_max=3)\n",
    "plt.show()"
   ]
  }
 ],
 "metadata": {
  "interpreter": {
   "hash": "e966e8575e80f21eefd148db0808d44eea9284358157c0ee2fd32e18adfd524e"
  },
  "kernelspec": {
   "display_name": "Python 3.9.12 ('mcsimi2k')",
   "language": "python",
   "name": "python3"
  },
  "language_info": {
   "codemirror_mode": {
    "name": "ipython",
    "version": 3
   },
   "file_extension": ".py",
   "mimetype": "text/x-python",
   "name": "python",
   "nbconvert_exporter": "python",
   "pygments_lexer": "ipython3",
   "version": "3.9.12"
  },
  "orig_nbformat": 4
 },
 "nbformat": 4,
 "nbformat_minor": 2
}
